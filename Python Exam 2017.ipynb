{
 "cells": [
  {
   "cell_type": "raw",
   "metadata": {},
   "source": [
    "2017 Python Language Exam (Insrumental)"
   ]
  },
  {
   "cell_type": "markdown",
   "metadata": {},
   "source": [
    "- Annotate the following code using Python comments."
   ]
  },
  {
   "cell_type": "code",
   "execution_count": 1,
   "metadata": {},
   "outputs": [
    {
     "ename": "SyntaxError",
     "evalue": "invalid syntax (<ipython-input-1-a458d4e8bc1e>, line 55)",
     "output_type": "error",
     "traceback": [
      "\u001b[0;36m  File \u001b[0;32m\"<ipython-input-1-a458d4e8bc1e>\"\u001b[0;36m, line \u001b[0;32m55\u001b[0m\n\u001b[0;31m    except tweepy.error.TweepError, e:\u001b[0m\n\u001b[0m                                  ^\u001b[0m\n\u001b[0;31mSyntaxError\u001b[0m\u001b[0;31m:\u001b[0m invalid syntax\n"
     ]
    }
   ],
   "source": [
    "# Import the Python module named \"csv\" \n",
    "# (used for processing .csv files)\n",
    "import csv\n",
    "# Import the Python module \"datetime\" \n",
    "# (used for handling dates and times)\n",
    "import datetime\n",
    "# Import the Python module \"tweepy\"\n",
    "# (used for processing tweets)\n",
    "import tweepy\n",
    "# Import the python library \"random\" \n",
    "# used for generating random numbers, and other random entities. \n",
    "import random\n",
    "\n",
    "# Set the variable \"path\" to be the value \"/home/bots/\" \n",
    "path = '/home/bots/'\n",
    "\n",
    "# Define the function `creds`\n",
    "def creds():\n",
    "    # Open the file `keys.csv` in read mode, and assign the file object \n",
    "    # to the variable `csvfile`, until the indentation under the `with`\n",
    "    # statement stops. \n",
    "    with open(path + 'keys.csv', 'r') as csvfile:\n",
    "        # instatiate a new DictReader object, using the file object, \n",
    "        # giving it the option \",\" for the delimiter. \n",
    "        creds = csv.DictReader(csvfile, delimiter=\",\")\n",
    "        # Call the method `next` on the object instantiated in the line above. \n",
    "        row = creds.next()\n",
    "        # Extract the values listed below from the dictionary created by calling `next` above. \n",
    "        return row['consumer_key'], row['consumer_secret'], row['access_token'], row['access_token_secret']\n",
    "\n",
    "# Define a function called `text`. \n",
    "def text():\n",
    "    # As described above, open the file `forbidden.txt`, and \n",
    "    # assign the file object to `f`. \n",
    "    with open(path + 'forbidden.txt', 'r') as f:\n",
    "        # Read each of the lines in the file \n",
    "        # into a list of lines. \n",
    "        flist = f.readlines()\n",
    "        # Convert each line in the file into an integer. \n",
    "        forbid_list = [int(i) for i in flist]\n",
    "         \n",
    "    # See above. \n",
    "    with open(path + 'tweets.txt', 'r') as f:\n",
    "        # Make a list of lines from the file `tweets.txt`. \n",
    "        tweets_list = f.readlines()\n",
    "        # Enumerate the tweets, and subtract one, \n",
    "        # presumably for use with the python `range` function. \n",
    "        tweets_range = len(tweets_list) - 1\n",
    "\n",
    "    # Generate a random integer between zero and the max\n",
    "    # number of lines from the file `tweets.txt` above. \n",
    "    tweet_index = random.randint(0,tweets_range)\n",
    "\n",
    "    # So long as the number generated above is\n",
    "    # part of the list of integers generated from `forbidden.txt`, \n",
    "    while tweet_index in forbid_list:\n",
    "        # (keep) generating a new random number between zero and the max\n",
    "        # number of tweets. Stop when finding one that isn't in the list.  \n",
    "        tweet_index = random.randint(0,tweets_range)\n",
    "    else:\n",
    "        # Otherwise, open `forbidden.txt` in append mode,\n",
    "        with open(path + 'forbidden.txt', 'a') as f:\n",
    "            # And write out a new line, containing\n",
    "            # this randomly-generated number. \n",
    "             f.write(str(tweet_index) + '\\n')\n",
    "        # And return the item from tweets_list containing this\n",
    "        # randomly generated number. \n",
    "        return tweets_list[tweet_index]\n",
    "\n",
    "# Define a new function called `tweet` that \n",
    "# takes the inputs k and t,\n",
    "def tweet(k, t):\n",
    "    # Try to do the following, \n",
    "    try:\n",
    "        # Instantiate a new Tweepy Auth object with the inputs\n",
    "        auth = tweepy.OAuthHandler(k[0], k[1])\n",
    "        # Set an access token with other inputs\n",
    "        auth.set_access_token(k[2], k[3])\n",
    "        # Instantiate a new API handler object \n",
    "        api = tweepy.API(auth)\n",
    "        # Presumably, update one's twitter status\n",
    "        # using the text `t`. \n",
    "        api.update_status(status=t)\n",
    "    # Except if you get an error of the type TweepError,\n",
    "    except tweepy.error.TweepError, e:\n",
    "        # Do these things: \n",
    "        # Print out the error message\n",
    "        print e.message[0]['code']\n",
    "        # Print out the error arguments\n",
    "        print e.args[0][0]['code']\n",
    "        # Continue on without doing or returning anything else. \n",
    "        pass\n",
    "\n",
    "# Call the function `tweet`, given credentials \n",
    "# generated with the `creds` function and text\n",
    "# provided by the `text` function. \n",
    "tweet(creds(), text())"
   ]
  },
  {
   "cell_type": "markdown",
   "metadata": {},
   "source": [
    "- Describe what the above code is doing in a few sentences.\n",
    "\n",
    "It's a twitter bot, that reads lines from a text file and tweets them at random. \n",
    "It reads credentials from an external file, and tweets random lines from a file. \n",
    "Is this the RikersBot? "
   ]
  },
  {
   "cell_type": "markdown",
   "metadata": {},
   "source": [
    "- Translate the following logic into Python code. Use standard Python libraries. Annotate and modularize your code whenver possible. Use of online resources is allowed, however you are required to cite any reused logic."
   ]
  },
  {
   "cell_type": "markdown",
   "metadata": {},
   "source": [
    "Sample text: \n",
    "\n",
    "Too stupefied to be curious myself, I fastened my door and glanced round\n",
    "for the bed. The whole furniture consisted of a chair, a clothes-press, and a\n",
    "large oak case, with squares cut out near the top resembling coach windows.\n",
    "Having approached this structure, I looked inside, and perceived it to be a\n",
    "singular sort of old-fashioned couch, very conveniently designed to obviate\n",
    "the necessity for every member of the family having a room to himself. In\n",
    "fact, it formed a little closet, and the ledge of a window, which it enclosed,\n",
    "served as a table. I slid back the panelled sides, got in with my light,\n",
    "pulled them together again, and felt secure against the vigilance of\n",
    "Heathcliff, and every one else.\n"
   ]
  },
  {
   "cell_type": "markdown",
   "metadata": {},
   "source": [
    "`Separate the above text into words. Return a list of unique words and their counts.`"
   ]
  },
  {
   "cell_type": "code",
   "execution_count": 11,
   "metadata": {},
   "outputs": [],
   "source": [
    "from collections import Counter"
   ]
  },
  {
   "cell_type": "code",
   "execution_count": 12,
   "metadata": {
    "collapsed": true
   },
   "outputs": [],
   "source": [
    "text = \"\"\"\n",
    "Too stupefied to be curious myself, I fastened my door and glanced round\n",
    "for the bed. The whole furniture consisted of a chair, a clothes-press, and a\n",
    "large oak case, with squares cut out near the top resembling coach windows.\n",
    "Having approached this structure, I looked inside, and perceived it to be a\n",
    "singular sort of old-fashioned couch, very conveniently designed to obviate\n",
    "the necessity for every member of the family having a room to himself. In\n",
    "fact, it formed a little closet, and the ledge of a window, which it enclosed,\n",
    "served as a table. I slid back the panelled sides, got in with my light,\n",
    "pulled them together again, and felt secure against the vigilance of\n",
    "Heathcliff, and every one else.\n",
    "\"\"\""
   ]
  },
  {
   "cell_type": "code",
   "execution_count": 17,
   "metadata": {
    "collapsed": true
   },
   "outputs": [],
   "source": [
    "cleaned = text.replace('\\n', ' ')\n",
    "spaceSeparated = cleaned.split(' ')\n",
    "newWordList = []\n",
    "for word in spaceSeparated: \n",
    "    newWord = \"\"\n",
    "    # Remove all non-alphabetic characters\n",
    "    for letter in word: \n",
    "        if letter.isalpha(): \n",
    "            newWord += letter\n",
    "    if len(newWord) > 0: \n",
    "        newWordList.append(newWord)"
   ]
  },
  {
   "cell_type": "code",
   "execution_count": 19,
   "metadata": {},
   "outputs": [
    {
     "data": {
      "text/plain": [
       "[('a', 8),\n",
       " ('the', 7),\n",
       " ('and', 6),\n",
       " ('of', 5),\n",
       " ('to', 4),\n",
       " ('I', 3),\n",
       " ('it', 3),\n",
       " ('be', 2),\n",
       " ('my', 2),\n",
       " ('for', 2),\n",
       " ('with', 2),\n",
       " ('every', 2),\n",
       " ('Too', 1),\n",
       " ('stupefied', 1),\n",
       " ('curious', 1),\n",
       " ('myself', 1),\n",
       " ('fastened', 1),\n",
       " ('door', 1),\n",
       " ('glanced', 1),\n",
       " ('round', 1),\n",
       " ('bed', 1),\n",
       " ('The', 1),\n",
       " ('whole', 1),\n",
       " ('furniture', 1),\n",
       " ('consisted', 1),\n",
       " ('chair', 1),\n",
       " ('clothespress', 1),\n",
       " ('large', 1),\n",
       " ('oak', 1),\n",
       " ('case', 1),\n",
       " ('squares', 1),\n",
       " ('cut', 1),\n",
       " ('out', 1),\n",
       " ('near', 1),\n",
       " ('top', 1),\n",
       " ('resembling', 1),\n",
       " ('coach', 1),\n",
       " ('windows', 1),\n",
       " ('Having', 1),\n",
       " ('approached', 1),\n",
       " ('this', 1),\n",
       " ('structure', 1),\n",
       " ('looked', 1),\n",
       " ('inside', 1),\n",
       " ('perceived', 1),\n",
       " ('singular', 1),\n",
       " ('sort', 1),\n",
       " ('oldfashioned', 1),\n",
       " ('couch', 1),\n",
       " ('very', 1),\n",
       " ('conveniently', 1),\n",
       " ('designed', 1),\n",
       " ('obviate', 1),\n",
       " ('necessity', 1),\n",
       " ('member', 1),\n",
       " ('family', 1),\n",
       " ('having', 1),\n",
       " ('room', 1),\n",
       " ('himself', 1),\n",
       " ('In', 1),\n",
       " ('fact', 1),\n",
       " ('formed', 1),\n",
       " ('little', 1),\n",
       " ('closet', 1),\n",
       " ('ledge', 1),\n",
       " ('window', 1),\n",
       " ('which', 1),\n",
       " ('enclosed', 1),\n",
       " ('served', 1),\n",
       " ('as', 1),\n",
       " ('table', 1),\n",
       " ('slid', 1),\n",
       " ('back', 1),\n",
       " ('panelled', 1),\n",
       " ('sides', 1),\n",
       " ('got', 1),\n",
       " ('in', 1),\n",
       " ('light', 1),\n",
       " ('pulled', 1),\n",
       " ('them', 1),\n",
       " ('together', 1),\n",
       " ('again', 1),\n",
       " ('felt', 1),\n",
       " ('secure', 1),\n",
       " ('against', 1),\n",
       " ('vigilance', 1),\n",
       " ('Heathcliff', 1),\n",
       " ('one', 1),\n",
       " ('else', 1)]"
      ]
     },
     "execution_count": 19,
     "metadata": {},
     "output_type": "execute_result"
    }
   ],
   "source": [
    "Counter(newWordList).most_common(len(newWordList))"
   ]
  },
  {
   "cell_type": "code",
   "execution_count": null,
   "metadata": {
    "collapsed": true
   },
   "outputs": [],
   "source": []
  }
 ],
 "metadata": {
  "kernelspec": {
   "display_name": "Python 3",
   "language": "python",
   "name": "python3"
  },
  "language_info": {
   "codemirror_mode": {
    "name": "ipython",
    "version": 3
   },
   "file_extension": ".py",
   "mimetype": "text/x-python",
   "name": "python",
   "nbconvert_exporter": "python",
   "pygments_lexer": "ipython3",
   "version": "3.6.0"
  }
 },
 "nbformat": 4,
 "nbformat_minor": 2
}
