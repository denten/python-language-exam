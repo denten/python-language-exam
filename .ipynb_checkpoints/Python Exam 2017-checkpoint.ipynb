{
 "cells": [
  {
   "cell_type": "code",
   "execution_count": null,
   "metadata": {
    "collapsed": true
   },
   "outputs": [],
   "source": [
    "# 2017 Python Language Exam (Instrumental)"
   ]
  },
  {
   "cell_type": "code",
   "execution_count": null,
   "metadata": {
    "collapsed": true
   },
   "outputs": [],
   "source": [
    "# This exam is modelled after similar exams that test instrumental knowledge of a foreign \n",
    "# language at a graduate level. You will be asked (a) to fix and to annotate a snippet of \n",
    "# Python code and (b) to translate a piece of pseudo code into Python.\n",
    "\n",
    "# You are permitted (and encouraged) to use supplementary materials, including language manuals \n",
    "# and online forums provided that you cite them in the code comments. However, please refrain \n",
    "# from posting questions related to these materials online  or elsewhere. The work must be done \n",
    "# by the individual taking the exam.\n",
    "\n",
    "# Email dt2406 at columbia with any questions."
   ]
  },
  {
   "cell_type": "code",
   "execution_count": null,
   "metadata": {
    "collapsed": true
   },
   "outputs": [],
   "source": [
    "## 1. Annotate the following code using Python comments."
   ]
  },
  {
   "cell_type": "code",
   "execution_count": null,
   "metadata": {
    "collapsed": true
   },
   "outputs": [],
   "source": [
    "import csv\n",
    "import datetime\n",
    "import tweepy\n",
    "import random\n",
    "\n",
    "\n",
    "path = '/home/bots/'\n",
    "\n",
    "def creds():\n",
    "    with open(path + 'keys.csv', 'r') as csvfile:\n",
    "        creds = csv.DictReader(csvfile, delimiter=\",\")\n",
    "        row = creds.next()\n",
    "        return row['consumer_key'], row['consumer_secret'], row['access_token'], row['access_token_secret']\n",
    "\n",
    "def text():\n",
    "    with open(path + 'forbidden.txt', 'r') as f:\n",
    "        flist = f.readlines()\n",
    "        forbid_list = [int(i) for i in flist]\n",
    "\n",
    "    with open(path + 'tweets.txt', 'r') as f:\n",
    "        tweets_list = f.readlines()\n",
    "        tweets_range = len(tweets_list) - 1\n",
    "\n",
    "    tweet_index = random.randint(0,tweets_range)\n",
    "\n",
    "    while tweet_index in forbid_list:\n",
    "        tweet_index = random.randint(0,tweets_range)\n",
    "    else:\n",
    "        with open(path + 'forbidden.txt', 'a') as f:\n",
    "             f.write(str(tweet_index) + '\\n')\n",
    "\n",
    "        return tweets_list[tweet_index]\n",
    "\n",
    "def tweet(k, t):\n",
    "    try:\n",
    "        auth = tweepy.OAuthHandler(k[0], k[1])\n",
    "        auth.set_access_token(k[2], k[3])\n",
    "        api = tweepy.API(auth)\n",
    "        api.update_status(status=t)\n",
    "        \n",
    "    except tweepy.error.TweepError, e:\n",
    "        print e.message[0]['code']\n",
    "        print e.args[0][0]['code']\n",
    "        pass\n",
    "\n",
    "tweet(creds(), text())"
   ]
  },
  {
   "cell_type": "code",
   "execution_count": null,
   "metadata": {
    "collapsed": true
   },
   "outputs": [],
   "source": [
    "# 2. Describe what the above code is doing in a few sentences."
   ]
  },
  {
   "cell_type": "markdown",
   "metadata": {},
   "source": []
  },
  {
   "cell_type": "code",
   "execution_count": null,
   "metadata": {
    "collapsed": true
   },
   "outputs": [],
   "source": [
    "# 3. Using standard Python libraries separte the following text into words. \n",
    "#    Return a list of unique words and their counts. Annotate and modularize \n",
    "#    your code whenver possible."
   ]
  },
  {
   "cell_type": "markdown",
   "metadata": {},
   "source": [
    "```\n",
    "Too stupefied to be curious myself, I fastened my door and glanced round\n",
    "for the bed. The whole furniture consisted of a chair, a clothes-press, and a\n",
    "large oak case, with squares cut out near the top resembling coach windows.\n",
    "Having approached this structure, I looked inside, and perceived it to be a\n",
    "singular sort of old-fashioned couch, very conveniently designed to obviate\n",
    "the necessity for every member of the family having a room to himself. In\n",
    "fact, it formed a little closet, and the ledge of a window, which it enclosed,\n",
    "served as a table. I slid back the panelled sides, got in with my light,\n",
    "pulled them together again, and felt secure against the vigilance of\n",
    "Heathcliff, and every one else.\n",
    "```\n"
   ]
  }
 ],
 "metadata": {
  "kernelspec": {
   "display_name": "Python 3",
   "language": "python",
   "name": "python3"
  },
  "language_info": {
   "codemirror_mode": {
    "name": "ipython",
    "version": 3
   },
   "file_extension": ".py",
   "mimetype": "text/x-python",
   "name": "python",
   "nbconvert_exporter": "python",
   "pygments_lexer": "ipython3",
   "version": "3.5.3"
  }
 },
 "nbformat": 4,
 "nbformat_minor": 2
}
